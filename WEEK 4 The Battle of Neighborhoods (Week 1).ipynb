{
 "cells": [
  {
   "cell_type": "markdown",
   "metadata": {},
   "source": [
    "## Intorduction & Business Problems"
   ]
  },
  {
   "cell_type": "markdown",
   "metadata": {},
   "source": [
    "New York City, the center of the US, has always been the dream city for the international students and commuters. Manhattan as the heart of NYC has attracted peoples from all nations with various culture backgrounds. People who comes form Queens, Jersey City even Stamford struggle for a living on this amazing Island every single day. Students enjoyed their life in the world-famous universities like NYU and Coloumbia beside the Hudson river. Most people choose to rent an apartment exactly in Mahattan in order to feel the heartbeat of the golden city, though the expenses are as extraordinary as the city himself.\n",
    "\n",
    "So, suppose I am owning a consultant company for international students. They might have extrme curiosity about Manhattan and might face a lot of questions about the living contitions there. The fundamental problem in starting a new life in Manhattan must be which area should people choose to live. Students should acquire adequete information and keep a balance between personal living habits and financial budget. Therefore, it is my job to offer them reliable analysis based on the neiborhood information and provide appropriate suggestions for them. Such analysis will definitely save their time in searching repetitive information from the internet."
   ]
  },
  {
   "cell_type": "markdown",
   "metadata": {},
   "source": [
    "## Data description"
   ]
  },
  {
   "cell_type": "markdown",
   "metadata": {},
   "source": [
    "The data I will analyze basically consist of three parts..\n",
    "\n",
    "The first one is the \"2014 New York Neighborhood Names\" dateset, which was provided by NYU Spatial Data Repository (https://geo.nyu.edu/catalog/nyu-2451-34572). By using such dataset, I can extract the Manhattan neighborhood data and visulize them to offer my clients a direct perception to the city area.\n",
    "\n",
    "The second one is the Foursqure dataset (https://developer.foursquare.com/docs/build-with-foursquare/). By connecting the Foursquare API, I can filter the venues in the relevent neighborhood in order to fit the student's personalized requirements.\n",
    "\n",
    "The third one is the renting price data from RENTcafé website. I will scrape the average rent price data from the Manhattan rental market website (https://www.rentcafe.com/average-rent-market-trends/us/ny/manhattan/) and then match them into each neiborhood that I investigated. By utilizing these data, I will eventually give an integrated consideration on their living place selection."
   ]
  }
 ],
 "metadata": {
  "kernelspec": {
   "display_name": "Python 3",
   "language": "python",
   "name": "python3"
  },
  "language_info": {
   "codemirror_mode": {
    "name": "ipython",
    "version": 3
   },
   "file_extension": ".py",
   "mimetype": "text/x-python",
   "name": "python",
   "nbconvert_exporter": "python",
   "pygments_lexer": "ipython3",
   "version": "3.7.6"
  }
 },
 "nbformat": 4,
 "nbformat_minor": 4
}
